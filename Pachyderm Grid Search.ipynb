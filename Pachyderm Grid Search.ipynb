{
 "cells": [
  {
   "cell_type": "markdown",
   "metadata": {},
   "source": [
    "# What is Grid Search?"
   ]
  },
  {
   "cell_type": "markdown",
   "metadata": {},
   "source": [
    "\"Grid search\" is a type of [\"hyperparameter optimization\"](https://en.wikipedia.org/wiki/Hyperparameter_optimization).\n",
    "\n",
    "\"In the context of machine learning, hyperparameter optimization or model selection is the problem of choosing a set of hyperparameters for a learning algorithm, usually with the goal of optimizing a measure of the algorithm's performance on an independent data set. Often cross-validation is used to estimate this generalization performance.  Hyperparameter optimization contrasts with actual learning problems, which are also often cast as optimization problems, but optimize a loss function on the training set alone. In effect, learning algorithms learn parameters that model/reconstruct their inputs well, while hyperparameter optimization is to ensure the model does not overfit its data by tuning, e.g., regularization.\" - [wikipedia](https://en.wikipedia.org/wiki/Hyperparameter_optimization)"
   ]
  },
  {
   "cell_type": "markdown",
   "metadata": {},
   "source": [
    "![](files/gridsearch_cv.png)\n",
    "(image from [here](https://cambridgecoding.files.wordpress.com/2016/03/gridsearch_cv.png))"
   ]
  },
  {
   "cell_type": "markdown",
   "metadata": {},
   "source": [
    "In \"Grid Search\" sets of parameters, each defining a model, are chosen.  Then, for each set of parameters, the model is trained and evaluated (ideally using cross validation to avoid overfitting) using some evaluation metric (e.g., accuracy).  Once all models are evaluated, a \"best\" or \"optimal\" set of parameters, and thus an optimal model, can be chosen.\n",
    "\n",
    "As combinations of parameters can grow quickly with the number of parameters in a model, the computational effort needed to explore a parameter space can be significant.  However, the grid search problem is easily distributed as each model can be evaluated independent of the others."
   ]
  },
  {
   "cell_type": "markdown",
   "metadata": {},
   "source": [
    "# Grid Search in Pachyderm"
   ]
  },
  {
   "cell_type": "markdown",
   "metadata": {},
   "source": [
    "Implementing grid search in pachyderm has the following advantages:\n",
    "\n",
    "1. Pipeline stages are containerized, so models can be switched in an out from any language as long as they can work on the defined parameter space.  Thus, different models and even models implemented in different languages or packages can be quickly evaluated without have deploy extra infrastructure or dependencies.\n",
    "\n",
    "2. You can write your model in a simple serial implementation (e.g., with scikit learn), while still easily distributing that simple model over many different sets of parameters.\n",
    "\n",
    "3. When you incrementally make changes to your parameters space, pachyderm will automatically and incrementally update the analysis such that all cases need not be evaluate again."
   ]
  },
  {
   "cell_type": "markdown",
   "metadata": {},
   "source": [
    "## Pipeline Overview"
   ]
  },
  {
   "cell_type": "markdown",
   "metadata": {},
   "source": [
    "![](files/pachyderm_grid_search.jpg)"
   ]
  },
  {
   "cell_type": "markdown",
   "metadata": {},
   "source": [
    "The PFS and PPS components that enable simple, distributed grid search are:\n",
    "\n",
    "- `paramranges` repo - includes a json document specifying a number of parameters and ranges associated with each of those parameters.\n",
    "- `filter` pipeline - expands all combinations of those parameters and stores each combination in an output file in the `filter` repo.\n",
    "- `evaluate` pipeline - evaluates each model (as defined by each set of parameters) on a set of data included in the `training` repo using cross validation.\n",
    "- `evaluate` repo - the output of the `evaluate` pipeline containing the evaluation metrics for each set of parameters."
   ]
  },
  {
   "cell_type": "markdown",
   "metadata": {},
   "source": [
    "The pipeline manifest that powers the above flow is as follows:\n",
    "\n",
    "    {\n",
    "      \"pipeline\": {\n",
    "        \"name\": \"filter\"\n",
    "      },\n",
    "      \"transform\": {\n",
    "        \"image\": \"dwhitena/paramfilter\",\n",
    "        \"cmd\": [ \"/paramfilter\" ],\n",
    "        \"stdin\": []\n",
    "      },\n",
    "      \"inputs\": [\n",
    "        {\n",
    "          \"repo\": {\n",
    "            \"name\": \"paramranges\"\n",
    "          },\n",
    "          \"method\": \"map\"\n",
    "        }\n",
    "      ]\n",
    "    }\n",
    "    {\n",
    "      \"pipeline\": {\n",
    "        \"name\": \"evaluate\"\n",
    "      },\n",
    "      \"transform\": {\n",
    "        \"image\": \"dwhitena/modeleval\",\n",
    "        \"cmd\": [ \"python\", \"/modeleval.py\" ],\n",
    "        \"stdin\": []\n",
    "      },\n",
    "      \"inputs\": [\n",
    "        {\n",
    "          \"repo\": {\n",
    "            \"name\": \"filter\"\n",
    "          },\n",
    "          \"method\": \"map\"\n",
    "        },\n",
    "        {\n",
    "          \"repo\": {\n",
    "            \"name\": \"training\"\n",
    "          },\n",
    "          \"method\": \"global\"\n",
    "        }\n",
    "      ]\n",
    "    }"
   ]
  },
  {
   "cell_type": "markdown",
   "metadata": {},
   "source": [
    "## Input Data"
   ]
  },
  {
   "cell_type": "markdown",
   "metadata": {},
   "source": [
    "### Example parameter ranges (stored in the `paramranges` repo)"
   ]
  },
  {
   "cell_type": "markdown",
   "metadata": {},
   "source": [
    "    [\n",
    "        {\n",
    "            \"name\": \"n_estimators\",\n",
    "            \"Min\": 1,\n",
    "            \"Max\": 500,\n",
    "            \"Increment\": 20\n",
    "        },\n",
    "        {\n",
    "            \"name\": \"max_features\",\n",
    "            \"Min\": 2,\n",
    "            \"Max\": 11,\n",
    "            \"Increment\": 1\n",
    "        }\n",
    "    ]"
   ]
  },
  {
   "cell_type": "markdown",
   "metadata": {},
   "source": [
    "### Example training data (used for training and cross validation)"
   ]
  },
  {
   "cell_type": "markdown",
   "metadata": {},
   "source": [
    "This evaluation pipeline could be used for any sort of model over any parameter space, including classification models, regression models, etc.  However, by way of example, we will consider a random forest model attempting to predict wine quality from a data points representing chemical properties of various wines.  This data set can be found [here](http://archive.ics.uci.edu/ml/datasets/Wine+Quality) and looks like:\n",
    "\n",
    "    \"fixed acidity\";\"volatile acidity\";\"citric acid\";\"residual sugar\";\"chlorides\";\"free sulfur dioxide\";\"total sulfur dioxide\";\"density\";\"pH\";\"sulphates\";\"alcohol\";\"quality\"\n",
    "    7.4;0.7;0;1.9;0.076;11;34;0.9978;3.51;0.56;9.4;5\n",
    "    7.8;0.88;0;2.6;0.098;25;67;0.9968;3.2;0.68;9.8;5\n",
    "    7.8;0.76;0.04;2.3;0.092;15;54;0.997;3.26;0.65;9.8;5\n",
    "    11.2;0.28;0.56;1.9;0.075;17;60;0.998;3.16;0.58;9.8;6\n",
    "    7.4;0.7;0;1.9;0.076;11;34;0.9978;3.51;0.56;9.4;5\n",
    "    7.4;0.66;0;1.8;0.075;13;40;0.9978;3.51;0.56;9.4;5\n",
    "    7.9;0.6;0.06;1.6;0.069;15;59;0.9964;3.3;0.46;9.4;5\n",
    "    7.3;0.65;0;1.2;0.065;15;21;0.9946;3.39;0.47;10;7\n",
    "    7.8;0.58;0.02;2;0.073;9;18;0.9968;3.36;0.57;9.5;7"
   ]
  },
  {
   "cell_type": "markdown",
   "metadata": {},
   "source": [
    "## Output Data"
   ]
  },
  {
   "cell_type": "markdown",
   "metadata": {},
   "source": [
    "The output of the pipelines will be a file called `results.csv` that includes all pairs of paramaters sets with corresponding evaluation metrics (e.g., accuracies).  Again, any evaluation metric can be used and changed with a simple change to the containers utilized in the pipeline.  The output will look something like:\n",
    "\n",
    "    {\"n_estimators\": 1.00, \"max_features\": 10.00}, 0.486055376255\n",
    "    {\"n_estimators\": 1.00, \"max_features\": 11.00}, 0.453946143819\n",
    "    {\"n_estimators\": 1.00, \"max_features\": 2.00}, 0.442220695804\n",
    "    {\"n_estimators\": 1.00, \"max_features\": 3.00}, 0.476594469437\n",
    "    {\"n_estimators\": 1.00, \"max_features\": 4.00}, 0.471664247368\n",
    "    {\"n_estimators\": 1.00, \"max_features\": 5.00}, 0.467147413542\n",
    "    {\"n_estimators\": 1.00, \"max_features\": 6.00}, 0.450757703385\n",
    "    {\"n_estimators\": 1.00, \"max_features\": 7.00}, 0.490742069559\n",
    "    {\"n_estimators\": 1.00, \"max_features\": 8.00}, 0.451532999852\n",
    "    {\"n_estimators\": 1.00, \"max_features\": 9.00}, 0.466515994985\n",
    "    {\"n_estimators\": 11.00, \"max_features\": 10.00}, 0.533487838961\n",
    "    {\"n_estimators\": 11.00, \"max_features\": 11.00}, 0.534702031476\n",
    "    {\"n_estimators\": 11.00, \"max_features\": 2.00}, 0.556163495182\n",
    "    {\"n_estimators\": 11.00, \"max_features\": 3.00}, 0.53033896664\n",
    "    {\"n_estimators\": 11.00, \"max_features\": 4.00}, 0.531569892182\n",
    "    {\"n_estimators\": 11.00, \"max_features\": 5.00}, 0.532986352317"
   ]
  },
  {
   "cell_type": "markdown",
   "metadata": {},
   "source": [
    "For the case of the random forest model and the wine quality data, an example run of the pipelines ranging `n_estimators` from 0 to 500 and `max_features` from 2 to 11 (two parameters in scikit-learn's implementation of the random forest classification algorithm) produced the following output:"
   ]
  },
  {
   "cell_type": "code",
   "execution_count": 1,
   "metadata": {
    "collapsed": false
   },
   "outputs": [],
   "source": [
    "import pandas as pd\n",
    "df = pd.read_csv(\"files/example_output.csv\", names=[\"n_estimators\", \"max_features\", \"accuracy\"])\n",
    "df['n_estimators'] = df['n_estimators'].map(lambda x: int(float(x[16:])))\n",
    "df['max_features'] = df['max_features'].map(lambda x: int(float(x[16:-1])))"
   ]
  },
  {
   "cell_type": "code",
   "execution_count": 2,
   "metadata": {
    "collapsed": false
   },
   "outputs": [
    {
     "data": {
      "text/html": [
       "<div>\n",
       "<table border=\"1\" class=\"dataframe\">\n",
       "  <thead>\n",
       "    <tr style=\"text-align: right;\">\n",
       "      <th></th>\n",
       "      <th>n_estimators</th>\n",
       "      <th>max_features</th>\n",
       "      <th>accuracy</th>\n",
       "    </tr>\n",
       "  </thead>\n",
       "  <tbody>\n",
       "    <tr>\n",
       "      <th>0</th>\n",
       "      <td>1</td>\n",
       "      <td>10</td>\n",
       "      <td>0.472356</td>\n",
       "    </tr>\n",
       "    <tr>\n",
       "      <th>1</th>\n",
       "      <td>1</td>\n",
       "      <td>11</td>\n",
       "      <td>0.420230</td>\n",
       "    </tr>\n",
       "    <tr>\n",
       "      <th>2</th>\n",
       "      <td>1</td>\n",
       "      <td>2</td>\n",
       "      <td>0.461088</td>\n",
       "    </tr>\n",
       "    <tr>\n",
       "      <th>3</th>\n",
       "      <td>1</td>\n",
       "      <td>3</td>\n",
       "      <td>0.467179</td>\n",
       "    </tr>\n",
       "    <tr>\n",
       "      <th>4</th>\n",
       "      <td>1</td>\n",
       "      <td>4</td>\n",
       "      <td>0.476044</td>\n",
       "    </tr>\n",
       "  </tbody>\n",
       "</table>\n",
       "</div>"
      ],
      "text/plain": [
       "   n_estimators  max_features  accuracy\n",
       "0             1            10  0.472356\n",
       "1             1            11  0.420230\n",
       "2             1             2  0.461088\n",
       "3             1             3  0.467179\n",
       "4             1             4  0.476044"
      ]
     },
     "execution_count": 2,
     "metadata": {},
     "output_type": "execute_result"
    }
   ],
   "source": [
    "df.head()"
   ]
  },
  {
   "cell_type": "markdown",
   "metadata": {},
   "source": [
    "We can then easily find the optimal set of parameters along with the best accuracy we can expect in classifying wine qualities:"
   ]
  },
  {
   "cell_type": "code",
   "execution_count": 3,
   "metadata": {
    "collapsed": false
   },
   "outputs": [
    {
     "data": {
      "text/html": [
       "<div>\n",
       "<table border=\"1\" class=\"dataframe\">\n",
       "  <thead>\n",
       "    <tr style=\"text-align: right;\">\n",
       "      <th></th>\n",
       "      <th>n_estimators</th>\n",
       "      <th>max_features</th>\n",
       "      <th>accuracy</th>\n",
       "    </tr>\n",
       "  </thead>\n",
       "  <tbody>\n",
       "    <tr>\n",
       "      <th>103</th>\n",
       "      <td>261</td>\n",
       "      <td>3</td>\n",
       "      <td>0.586743</td>\n",
       "    </tr>\n",
       "  </tbody>\n",
       "</table>\n",
       "</div>"
      ],
      "text/plain": [
       "     n_estimators  max_features  accuracy\n",
       "103           261             3  0.586743"
      ]
     },
     "execution_count": 3,
     "metadata": {},
     "output_type": "execute_result"
    }
   ],
   "source": [
    "df[df['accuracy'] == df['accuracy'].max()]"
   ]
  },
  {
   "cell_type": "markdown",
   "metadata": {},
   "source": [
    "And the accuracies corresponding the whole of the parameter space can be visualized:"
   ]
  },
  {
   "cell_type": "code",
   "execution_count": 4,
   "metadata": {
    "collapsed": false
   },
   "outputs": [],
   "source": [
    "%matplotlib inline\n",
    "import matplotlib.pyplot as plt\n",
    "import pylab\n",
    "import numpy as np\n",
    "pylab.rcParams['figure.figsize'] = (12.0, 10.0)\n",
    "\n",
    "p1_len = len(df['n_estimators'].unique())\n",
    "p2_len = len(df['max_features'].unique())\n",
    "heatmat = np.empty([p1_len, p2_len])\n",
    "\n",
    "dfmod = df.set_index([\"n_estimators\", \"max_features\"])\n",
    "for i in range(1,5):\n",
    "    for j in range(1,10):\n",
    "        heatmat[i, j] = dfmod.ix[df['n_estimators'].unique()[i], df['max_features'].unique()[j]]['accuracy'].mean()"
   ]
  },
  {
   "cell_type": "code",
   "execution_count": 5,
   "metadata": {
    "collapsed": false
   },
   "outputs": [
    {
     "data": {
      "text/plain": [
       "(1, 5)"
      ]
     },
     "execution_count": 5,
     "metadata": {},
     "output_type": "execute_result"
    },
    {
     "data": {
      "image/png": "[encoded data removed]",
      "text/plain": [
       "<matplotlib.figure.Figure at 0x7f519ae80750>"
      ]
     },
     "metadata": {},
     "output_type": "display_data"
    }
   ],
   "source": [
    "plt.pcolor(heatmat)\n",
    "plt.xlim([1,10])\n",
    "plt.ylim([1,5])"
   ]
  }
 ],
 "metadata": {
  "kernelspec": {
   "display_name": "Python 2",
   "language": "python",
   "name": "python2"
  },
  "language_info": {
   "codemirror_mode": {
    "name": "ipython",
    "version": 2
   },
   "file_extension": ".py",
   "mimetype": "text/x-python",
   "name": "python",
   "nbconvert_exporter": "python",
   "pygments_lexer": "ipython2",
   "version": "2.7.11"
  }
 },
 "nbformat": 4,
 "nbformat_minor": 0
}
